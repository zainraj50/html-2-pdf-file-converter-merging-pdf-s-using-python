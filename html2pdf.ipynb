{
 "cells": [
  {
   "cell_type": "code",
   "execution_count": 17,
   "metadata": {},
   "outputs": [
    {
     "data": {
      "text/plain": [
       "''"
      ]
     },
     "execution_count": 17,
     "metadata": {},
     "output_type": "execute_result"
    }
   ],
   "source": [
    "title='python'\n",
    "html = '''\n",
    "<H1><Center>html2Pdf</Center></H1><br>\n",
    "\n",
    "<h1>Python Codes:</h1><p><br>\n",
    "This is Html file<br>\n",
    "import numpy as np<br>\n",
    "import matplotlib.pyplot as plt<br>\n",
    "data = {'Date':['2020.04.21', '2020.04.21', '2020.04.21', '2020.04.21'], 'Price':[500, 550, 600, 625]}<br>\n",
    "prices = pd.DataFrame(data)<br>\n",
    "price = 500<br>day_change = 25<br>week_change = 100<br>\n",
    "print('Welcome to the weekly update:')<br>\n",
    "print()<br>\n",
    "print('Price today is: '+ str(price)+'Day Change: '+str(day_change)+'/ Week Change: '+ str(week_change))<br>\n",
    "plt.plot(prices['Price'])<br>\n",
    "plt.show()<br>\n",
    "print('')<br>\n",
    "print('Many thanks for reading')<br>\n",
    " </p><br>\n",
    " <img src=\"python.png\" alt=\"HTML5 Icon\" style=\"width:50px;height:50px;\"/>\n",
    "<p> <center>\n",
    "\n",
    "</center></p>\n",
    "'''\n",
    "\n",
    "from fpdf import FPDF, HTMLMixin\n",
    "\n",
    "class MyFPDF(FPDF, HTMLMixin):\n",
    "    pass\n",
    "\n",
    "pdf = MyFPDF()\n",
    "#First page\n",
    "pdf.add_page('3') #you can add more pages retyping this\n",
    "pdf.set_title(title)\n",
    "pdf.set_font('Arial', 'B', 14)\n",
    "\n",
    "pdf.write_html(html)\n",
    "\n",
    "\n",
    "    \n",
    "pdf.output('html1.pdf', 'F')"
   ]
  },
  {
   "cell_type": "markdown",
   "metadata": {},
   "source": [
    "# The Below cell can merge 2 pdf files"
   ]
  },
  {
   "cell_type": "code",
   "execution_count": 4,
   "metadata": {},
   "outputs": [],
   "source": [
    "# importing required modules \n",
    "import PyPDF2 \n",
    "  \n",
    "def PDFmerge(pdfs, output):  \n",
    "    # creating pdf file merger object \n",
    "    pdfMerger = PyPDF2.PdfFileMerger() \n",
    "      \n",
    "    # appending pdfs one by one \n",
    "    for pdf in pdfs: \n",
    "        with open(pdf, 'rb') as f: \n",
    "            pdfMerger.append(f) \n",
    "          \n",
    "    # writing combined pdf to output pdf file \n",
    "    with open(output, 'wb') as f: \n",
    "        pdfMerger.write(f)\n",
    "        \n",
    "        \n",
    "def main(): \n",
    "    # pdf files to merge \n",
    "    pdfs = ['html1.pdf', 'html.pdf'] \n",
    "     \n",
    "    # output pdf file name \n",
    "    output  = 'combined_example.pdf'\n",
    "      \n",
    "    # calling pdf merge function \n",
    "    PDFmerge(pdfs = pdfs, output = output) \n",
    "if __name__ == \"__main__\": \n",
    "    # calling the main function \n",
    "    main() \n"
   ]
  },
  {
   "cell_type": "code",
   "execution_count": null,
   "metadata": {},
   "outputs": [],
   "source": []
  }
 ],
 "metadata": {
  "kernelspec": {
   "display_name": "Python 3",
   "language": "python",
   "name": "python3"
  },
  "language_info": {
   "codemirror_mode": {
    "name": "ipython",
    "version": 3
   },
   "file_extension": ".py",
   "mimetype": "text/x-python",
   "name": "python",
   "nbconvert_exporter": "python",
   "pygments_lexer": "ipython3",
   "version": "3.7.3"
  }
 },
 "nbformat": 4,
 "nbformat_minor": 2
}
